{
 "cells": [
  {
   "cell_type": "markdown",
   "id": "19c47c1a-34c0-4662-b89e-9d2c44055312",
   "metadata": {},
   "source": [
    "## Project : Exploratory Data Analysis (EDA) in Python\n",
    "**Objective** : The objective of this project is to select a dataset, perform data cleaning and pre-processing, conduct exploratory data analysis (EDA), and present your findings. This project will help you understand the dataset, uncover underlying patterns, and generate insights that could guide further analysis or decision-making."
   ]
  },
  {
   "cell_type": "markdown",
   "id": "29d9f342-67f5-4816-89a1-5fe10850ad7d",
   "metadata": {},
   "source": [
    "## 1. Select a Dataset"
   ]
  },
  {
   "cell_type": "markdown",
   "id": "1299701a-53c3-46d4-84b1-d734705a7c0e",
   "metadata": {},
   "source": [
    "### 1.1 Choose a dataset that interests you. The dataset can be from a public source such as Kaggle, UCI Machine Learning Repository, or any other reliable source."
   ]
  },
  {
   "cell_type": "markdown",
   "id": "72416a81-7990-4f3f-88b7-e56dd98370ba",
   "metadata": {},
   "source": [
    "**Selected Dataset** : https://www.kaggle.com/datasets/rohanrao/air-quality-data-in-india"
   ]
  },
  {
   "cell_type": "markdown",
   "id": "5b3a527c-2929-4b30-90ec-d8a5ea2edccd",
   "metadata": {},
   "source": [
    "### 1.2  Ensure the dataset is sufficiently large and has a variety of features (columns) to analyze. Aim for at least 500 rows and 5 columns."
   ]
  },
  {
   "cell_type": "markdown",
   "id": "29e70022-67e7-44e7-8dcd-9de99c4b0c49",
   "metadata": {},
   "source": [
    "**Answer** : TBD"
   ]
  },
  {
   "cell_type": "markdown",
   "id": "174e5a2a-ff85-483d-832d-374c13151735",
   "metadata": {},
   "source": [
    "## 2. Project Setup"
   ]
  },
  {
   "cell_type": "markdown",
   "id": "dab7f60a-7f46-4d40-bc6f-5a1b76fdca81",
   "metadata": {},
   "source": [
    "### 2.1 **Description of project and structure**"
   ]
  },
  {
   "cell_type": "raw",
   "id": "f1d76af8-58db-4819-96fc-c31dcf7d5562",
   "metadata": {},
   "source": [
    "\\---Exploratory Data Analysis (EDA) in Python\n",
    "    |   EDA_Project_Upadhyay_Kiran.ipynb\n",
    "    |   EDA_Todo_List.md\n",
    "    |   PDS_Project Instructions.pdf\n",
    "    |   README.md\n",
    "    |\n",
    "    +---.ipynb_checkpoints\n",
    "    |       EDA_Project_Upadhyay_Kiran-checkpoint.ipynb\n",
    "    |       EDA_Todo_List-checkpoint.md\n",
    "    |\n",
    "    \\---Dataset\n",
    "            city_day.csv\n",
    "            city_hour.csv\n",
    "            stations.csv\n",
    "            station_day.csv\n",
    "            station_hour.csv"
   ]
  },
  {
   "cell_type": "markdown",
   "id": "62acc7d7-2b2c-4c53-9e9e-8a16d2a77773",
   "metadata": {},
   "source": [
    "## 3. Data Import and Cleaning"
   ]
  },
  {
   "cell_type": "markdown",
   "id": "b3b24b22-857e-4a0f-9141-516bb6d13eb4",
   "metadata": {},
   "source": [
    "### 3.1 Import the necessary libraries: pandas, numpy, matplotlib, seaborn, etc."
   ]
  },
  {
   "cell_type": "code",
   "execution_count": 9,
   "id": "25c4ebab-1df5-4315-aae7-e41c8f517812",
   "metadata": {},
   "outputs": [],
   "source": [
    "# Importing necessary libraries\n",
    "import pandas as pd\n",
    "import numpy as np\n",
    "import matplotlib.pyplot as plt\n",
    "import seaborn as sns\n",
    "\n",
    "# Enable inline plotting for Jupyter Notebook\n",
    "%matplotlib inline"
   ]
  },
  {
   "cell_type": "markdown",
   "id": "31460e2f-21e5-4e43-a439-044fd60b1873",
   "metadata": {},
   "source": [
    "### 3.2 Load the dataset into a pandas DataFrame"
   ]
  },
  {
   "cell_type": "code",
   "execution_count": 10,
   "id": "e23571f5-eca8-45ab-bef0-90f7567589e5",
   "metadata": {},
   "outputs": [
    {
     "data": {
      "text/html": [
       "<div>\n",
       "<style scoped>\n",
       "    .dataframe tbody tr th:only-of-type {\n",
       "        vertical-align: middle;\n",
       "    }\n",
       "\n",
       "    .dataframe tbody tr th {\n",
       "        vertical-align: top;\n",
       "    }\n",
       "\n",
       "    .dataframe thead th {\n",
       "        text-align: right;\n",
       "    }\n",
       "</style>\n",
       "<table border=\"1\" class=\"dataframe\">\n",
       "  <thead>\n",
       "    <tr style=\"text-align: right;\">\n",
       "      <th></th>\n",
       "      <th>City</th>\n",
       "      <th>Date</th>\n",
       "      <th>PM2.5</th>\n",
       "      <th>PM10</th>\n",
       "      <th>NO</th>\n",
       "      <th>NO2</th>\n",
       "      <th>NOx</th>\n",
       "      <th>NH3</th>\n",
       "      <th>CO</th>\n",
       "      <th>SO2</th>\n",
       "      <th>O3</th>\n",
       "      <th>Benzene</th>\n",
       "      <th>Toluene</th>\n",
       "      <th>Xylene</th>\n",
       "      <th>AQI</th>\n",
       "      <th>AQI_Bucket</th>\n",
       "    </tr>\n",
       "  </thead>\n",
       "  <tbody>\n",
       "    <tr>\n",
       "      <th>0</th>\n",
       "      <td>Ahmedabad</td>\n",
       "      <td>2015-01-01</td>\n",
       "      <td>NaN</td>\n",
       "      <td>NaN</td>\n",
       "      <td>0.92</td>\n",
       "      <td>18.22</td>\n",
       "      <td>17.15</td>\n",
       "      <td>NaN</td>\n",
       "      <td>0.92</td>\n",
       "      <td>27.64</td>\n",
       "      <td>133.36</td>\n",
       "      <td>0.00</td>\n",
       "      <td>0.02</td>\n",
       "      <td>0.00</td>\n",
       "      <td>NaN</td>\n",
       "      <td>NaN</td>\n",
       "    </tr>\n",
       "    <tr>\n",
       "      <th>1</th>\n",
       "      <td>Ahmedabad</td>\n",
       "      <td>2015-01-02</td>\n",
       "      <td>NaN</td>\n",
       "      <td>NaN</td>\n",
       "      <td>0.97</td>\n",
       "      <td>15.69</td>\n",
       "      <td>16.46</td>\n",
       "      <td>NaN</td>\n",
       "      <td>0.97</td>\n",
       "      <td>24.55</td>\n",
       "      <td>34.06</td>\n",
       "      <td>3.68</td>\n",
       "      <td>5.50</td>\n",
       "      <td>3.77</td>\n",
       "      <td>NaN</td>\n",
       "      <td>NaN</td>\n",
       "    </tr>\n",
       "    <tr>\n",
       "      <th>2</th>\n",
       "      <td>Ahmedabad</td>\n",
       "      <td>2015-01-03</td>\n",
       "      <td>NaN</td>\n",
       "      <td>NaN</td>\n",
       "      <td>17.40</td>\n",
       "      <td>19.30</td>\n",
       "      <td>29.70</td>\n",
       "      <td>NaN</td>\n",
       "      <td>17.40</td>\n",
       "      <td>29.07</td>\n",
       "      <td>30.70</td>\n",
       "      <td>6.80</td>\n",
       "      <td>16.40</td>\n",
       "      <td>2.25</td>\n",
       "      <td>NaN</td>\n",
       "      <td>NaN</td>\n",
       "    </tr>\n",
       "    <tr>\n",
       "      <th>3</th>\n",
       "      <td>Ahmedabad</td>\n",
       "      <td>2015-01-04</td>\n",
       "      <td>NaN</td>\n",
       "      <td>NaN</td>\n",
       "      <td>1.70</td>\n",
       "      <td>18.48</td>\n",
       "      <td>17.97</td>\n",
       "      <td>NaN</td>\n",
       "      <td>1.70</td>\n",
       "      <td>18.59</td>\n",
       "      <td>36.08</td>\n",
       "      <td>4.43</td>\n",
       "      <td>10.14</td>\n",
       "      <td>1.00</td>\n",
       "      <td>NaN</td>\n",
       "      <td>NaN</td>\n",
       "    </tr>\n",
       "    <tr>\n",
       "      <th>4</th>\n",
       "      <td>Ahmedabad</td>\n",
       "      <td>2015-01-05</td>\n",
       "      <td>NaN</td>\n",
       "      <td>NaN</td>\n",
       "      <td>22.10</td>\n",
       "      <td>21.42</td>\n",
       "      <td>37.76</td>\n",
       "      <td>NaN</td>\n",
       "      <td>22.10</td>\n",
       "      <td>39.33</td>\n",
       "      <td>39.31</td>\n",
       "      <td>7.01</td>\n",
       "      <td>18.89</td>\n",
       "      <td>2.78</td>\n",
       "      <td>NaN</td>\n",
       "      <td>NaN</td>\n",
       "    </tr>\n",
       "  </tbody>\n",
       "</table>\n",
       "</div>"
      ],
      "text/plain": [
       "        City        Date  PM2.5  PM10     NO    NO2    NOx  NH3     CO    SO2  \\\n",
       "0  Ahmedabad  2015-01-01    NaN   NaN   0.92  18.22  17.15  NaN   0.92  27.64   \n",
       "1  Ahmedabad  2015-01-02    NaN   NaN   0.97  15.69  16.46  NaN   0.97  24.55   \n",
       "2  Ahmedabad  2015-01-03    NaN   NaN  17.40  19.30  29.70  NaN  17.40  29.07   \n",
       "3  Ahmedabad  2015-01-04    NaN   NaN   1.70  18.48  17.97  NaN   1.70  18.59   \n",
       "4  Ahmedabad  2015-01-05    NaN   NaN  22.10  21.42  37.76  NaN  22.10  39.33   \n",
       "\n",
       "       O3  Benzene  Toluene  Xylene  AQI AQI_Bucket  \n",
       "0  133.36     0.00     0.02    0.00  NaN        NaN  \n",
       "1   34.06     3.68     5.50    3.77  NaN        NaN  \n",
       "2   30.70     6.80    16.40    2.25  NaN        NaN  \n",
       "3   36.08     4.43    10.14    1.00  NaN        NaN  \n",
       "4   39.31     7.01    18.89    2.78  NaN        NaN  "
      ]
     },
     "execution_count": 10,
     "metadata": {},
     "output_type": "execute_result"
    }
   ],
   "source": [
    "# Load the dataset from a CSV file into a pandas DataFrame\n",
    "df = pd.read_csv('Dataset/city_day.csv')\n",
    "\n",
    "# Display the first few rows\n",
    "df.head()"
   ]
  },
  {
   "cell_type": "markdown",
   "id": "e415c52d-edc6-42ce-aa53-4c62cec53752",
   "metadata": {},
   "source": [
    "### 3.3 Perform initial data inspection: check the shape of the data, data types, and summary statistics."
   ]
  },
  {
   "cell_type": "code",
   "execution_count": 11,
   "id": "d31f9605-4f8b-477e-bc8d-f4219960fa12",
   "metadata": {},
   "outputs": [
    {
     "name": "stdout",
     "output_type": "stream",
     "text": [
      "Data Shape: (29531, 16)\n",
      "<class 'pandas.core.frame.DataFrame'>\n",
      "RangeIndex: 29531 entries, 0 to 29530\n",
      "Data columns (total 16 columns):\n",
      " #   Column      Non-Null Count  Dtype  \n",
      "---  ------      --------------  -----  \n",
      " 0   City        29531 non-null  object \n",
      " 1   Date        29531 non-null  object \n",
      " 2   PM2.5       24933 non-null  float64\n",
      " 3   PM10        18391 non-null  float64\n",
      " 4   NO          25949 non-null  float64\n",
      " 5   NO2         25946 non-null  float64\n",
      " 6   NOx         25346 non-null  float64\n",
      " 7   NH3         19203 non-null  float64\n",
      " 8   CO          27472 non-null  float64\n",
      " 9   SO2         25677 non-null  float64\n",
      " 10  O3          25509 non-null  float64\n",
      " 11  Benzene     23908 non-null  float64\n",
      " 12  Toluene     21490 non-null  float64\n",
      " 13  Xylene      11422 non-null  float64\n",
      " 14  AQI         24850 non-null  float64\n",
      " 15  AQI_Bucket  24850 non-null  object \n",
      "dtypes: float64(13), object(3)\n",
      "memory usage: 3.6+ MB\n",
      "              PM2.5          PM10            NO           NO2           NOx  \\\n",
      "count  24933.000000  18391.000000  25949.000000  25946.000000  25346.000000   \n",
      "mean      67.450578    118.127103     17.574730     28.560659     32.309123   \n",
      "std       64.661449     90.605110     22.785846     24.474746     31.646011   \n",
      "min        0.040000      0.010000      0.020000      0.010000      0.000000   \n",
      "25%       28.820000     56.255000      5.630000     11.750000     12.820000   \n",
      "50%       48.570000     95.680000      9.890000     21.690000     23.520000   \n",
      "75%       80.590000    149.745000     19.950000     37.620000     40.127500   \n",
      "max      949.990000   1000.000000    390.680000    362.210000    467.630000   \n",
      "\n",
      "                NH3            CO           SO2            O3       Benzene  \\\n",
      "count  19203.000000  27472.000000  25677.000000  25509.000000  23908.000000   \n",
      "mean      23.483476      2.248598     14.531977     34.491430      3.280840   \n",
      "std       25.684275      6.962884     18.133775     21.694928     15.811136   \n",
      "min        0.010000      0.000000      0.010000      0.010000      0.000000   \n",
      "25%        8.580000      0.510000      5.670000     18.860000      0.120000   \n",
      "50%       15.850000      0.890000      9.160000     30.840000      1.070000   \n",
      "75%       30.020000      1.450000     15.220000     45.570000      3.080000   \n",
      "max      352.890000    175.810000    193.860000    257.730000    455.030000   \n",
      "\n",
      "            Toluene        Xylene           AQI  \n",
      "count  21490.000000  11422.000000  24850.000000  \n",
      "mean       8.700972      3.070128    166.463581  \n",
      "std       19.969164      6.323247    140.696585  \n",
      "min        0.000000      0.000000     13.000000  \n",
      "25%        0.600000      0.140000     81.000000  \n",
      "50%        2.970000      0.980000    118.000000  \n",
      "75%        9.150000      3.350000    208.000000  \n",
      "max      454.850000    170.370000   2049.000000  \n"
     ]
    }
   ],
   "source": [
    "# Print the shape of the DataFrame to see the number of rows and columns\n",
    "print(\"Data Shape:\", df.shape)\n",
    "\n",
    "# Display detailed information about the DataFrame (column types and non-null counts)\n",
    "df.info()\n",
    "\n",
    "# Generate and print summary statistics for numerical columns\n",
    "print(df.describe())"
   ]
  },
  {
   "cell_type": "markdown",
   "id": "7eca16c4-7c5b-48b6-8011-cc062d82814a",
   "metadata": {},
   "source": [
    "### 3.4 Identify and handle missing values. Decide whether to drop, fill, or interpolate missing data based on the context."
   ]
  },
  {
   "cell_type": "code",
   "execution_count": 12,
   "id": "9f701315-5e6f-475e-99dd-cd1cbbddc604",
   "metadata": {},
   "outputs": [
    {
     "name": "stdout",
     "output_type": "stream",
     "text": [
      "Missing values in each column:\n",
      "City              0\n",
      "Date              0\n",
      "PM2.5          4598\n",
      "PM10          11140\n",
      "NO             3582\n",
      "NO2            3585\n",
      "NOx            4185\n",
      "NH3           10328\n",
      "CO             2059\n",
      "SO2            3854\n",
      "O3             4022\n",
      "Benzene        5623\n",
      "Toluene        8041\n",
      "Xylene        18109\n",
      "AQI            4681\n",
      "AQI_Bucket     4681\n",
      "dtype: int64\n"
     ]
    }
   ],
   "source": [
    "# Check and print the number of missing values in each column\n",
    "print(\"Missing values in each column:\")\n",
    "print(df.isnull().sum())\n",
    "\n",
    "# Identify numerical columns in the DataFrame\n",
    "num_cols = df.select_dtypes(include=[np.number]).columns\n",
    "\n",
    "# Fill missing values in each numerical column with the respective column mean\n",
    "# This avoids chained assignment by directly reassigning the column\n",
    "for col in num_cols:\n",
    "    df[col] = df[col].fillna(df[col].mean())\n",
    "\n",
    "# Alternatively, if preferred, you could drop rows with missing values:\n",
    "# df.dropna(inplace=True)"
   ]
  },
  {
   "cell_type": "markdown",
   "id": "759d24e0-a97e-43e1-8ea7-2adead263696",
   "metadata": {},
   "source": [
    "### 3.5 Detect and remove duplicate rows if any."
   ]
  },
  {
   "cell_type": "code",
   "execution_count": 13,
   "id": "a341f986-4b63-4278-819c-6415fc8078b8",
   "metadata": {},
   "outputs": [
    {
     "name": "stdout",
     "output_type": "stream",
     "text": [
      "After removing duplicates, data shape: (29531, 16)\n"
     ]
    }
   ],
   "source": [
    "# Remove duplicate rows from the DataFrame\n",
    "df = df.drop_duplicates()\n",
    "\n",
    "# Confirm duplicates have been removed by checking the DataFrame shape or using df.info()\n",
    "print(\"After removing duplicates, data shape:\", df.shape)"
   ]
  },
  {
   "cell_type": "markdown",
   "id": "5766edf0-34bd-476f-b674-7402ecc94342",
   "metadata": {},
   "source": [
    "### 3.6 Convert data types if necessary (e.g., dates should be in datetime format)."
   ]
  },
  {
   "cell_type": "code",
   "execution_count": 14,
   "id": "309a6281-a9eb-4800-b63f-e1e5b175b52e",
   "metadata": {},
   "outputs": [
    {
     "name": "stdout",
     "output_type": "stream",
     "text": [
      "        Date\n",
      "0 2015-01-01\n",
      "1 2015-01-02\n",
      "2 2015-01-03\n",
      "3 2015-01-04\n",
      "4 2015-01-05\n"
     ]
    }
   ],
   "source": [
    "# Check if the 'Date' column exists and convert it to datetime format if it does\n",
    "if 'Date' in df.columns:\n",
    "    df['Date'] = pd.to_datetime(df['Date'], errors='coerce')\n",
    "\n",
    "# Verify the conversion by displaying the first few rows of the 'Date' column\n",
    "if 'Date' in df.columns:\n",
    "    print(df[['Date']].head())"
   ]
  },
  {
   "cell_type": "markdown",
   "id": "d27b9278-d124-4706-b0a7-ebe40ed4f8c3",
   "metadata": {},
   "source": [
    "### Final Verification"
   ]
  },
  {
   "cell_type": "code",
   "execution_count": 15,
   "id": "79401e40-b8ae-4666-b6a8-bc212a047476",
   "metadata": {},
   "outputs": [
    {
     "name": "stdout",
     "output_type": "stream",
     "text": [
      "<class 'pandas.core.frame.DataFrame'>\n",
      "RangeIndex: 29531 entries, 0 to 29530\n",
      "Data columns (total 16 columns):\n",
      " #   Column      Non-Null Count  Dtype         \n",
      "---  ------      --------------  -----         \n",
      " 0   City        29531 non-null  object        \n",
      " 1   Date        29531 non-null  datetime64[ns]\n",
      " 2   PM2.5       29531 non-null  float64       \n",
      " 3   PM10        29531 non-null  float64       \n",
      " 4   NO          29531 non-null  float64       \n",
      " 5   NO2         29531 non-null  float64       \n",
      " 6   NOx         29531 non-null  float64       \n",
      " 7   NH3         29531 non-null  float64       \n",
      " 8   CO          29531 non-null  float64       \n",
      " 9   SO2         29531 non-null  float64       \n",
      " 10  O3          29531 non-null  float64       \n",
      " 11  Benzene     29531 non-null  float64       \n",
      " 12  Toluene     29531 non-null  float64       \n",
      " 13  Xylene      29531 non-null  float64       \n",
      " 14  AQI         29531 non-null  float64       \n",
      " 15  AQI_Bucket  24850 non-null  object        \n",
      "dtypes: datetime64[ns](1), float64(13), object(2)\n",
      "memory usage: 3.6+ MB\n"
     ]
    },
    {
     "data": {
      "text/html": [
       "<div>\n",
       "<style scoped>\n",
       "    .dataframe tbody tr th:only-of-type {\n",
       "        vertical-align: middle;\n",
       "    }\n",
       "\n",
       "    .dataframe tbody tr th {\n",
       "        vertical-align: top;\n",
       "    }\n",
       "\n",
       "    .dataframe thead th {\n",
       "        text-align: right;\n",
       "    }\n",
       "</style>\n",
       "<table border=\"1\" class=\"dataframe\">\n",
       "  <thead>\n",
       "    <tr style=\"text-align: right;\">\n",
       "      <th></th>\n",
       "      <th>City</th>\n",
       "      <th>Date</th>\n",
       "      <th>PM2.5</th>\n",
       "      <th>PM10</th>\n",
       "      <th>NO</th>\n",
       "      <th>NO2</th>\n",
       "      <th>NOx</th>\n",
       "      <th>NH3</th>\n",
       "      <th>CO</th>\n",
       "      <th>SO2</th>\n",
       "      <th>O3</th>\n",
       "      <th>Benzene</th>\n",
       "      <th>Toluene</th>\n",
       "      <th>Xylene</th>\n",
       "      <th>AQI</th>\n",
       "      <th>AQI_Bucket</th>\n",
       "    </tr>\n",
       "  </thead>\n",
       "  <tbody>\n",
       "    <tr>\n",
       "      <th>0</th>\n",
       "      <td>Ahmedabad</td>\n",
       "      <td>2015-01-01</td>\n",
       "      <td>67.450578</td>\n",
       "      <td>118.127103</td>\n",
       "      <td>0.92</td>\n",
       "      <td>18.22</td>\n",
       "      <td>17.15</td>\n",
       "      <td>23.483476</td>\n",
       "      <td>0.92</td>\n",
       "      <td>27.64</td>\n",
       "      <td>133.36</td>\n",
       "      <td>0.00</td>\n",
       "      <td>0.02</td>\n",
       "      <td>0.00</td>\n",
       "      <td>166.463581</td>\n",
       "      <td>NaN</td>\n",
       "    </tr>\n",
       "    <tr>\n",
       "      <th>1</th>\n",
       "      <td>Ahmedabad</td>\n",
       "      <td>2015-01-02</td>\n",
       "      <td>67.450578</td>\n",
       "      <td>118.127103</td>\n",
       "      <td>0.97</td>\n",
       "      <td>15.69</td>\n",
       "      <td>16.46</td>\n",
       "      <td>23.483476</td>\n",
       "      <td>0.97</td>\n",
       "      <td>24.55</td>\n",
       "      <td>34.06</td>\n",
       "      <td>3.68</td>\n",
       "      <td>5.50</td>\n",
       "      <td>3.77</td>\n",
       "      <td>166.463581</td>\n",
       "      <td>NaN</td>\n",
       "    </tr>\n",
       "    <tr>\n",
       "      <th>2</th>\n",
       "      <td>Ahmedabad</td>\n",
       "      <td>2015-01-03</td>\n",
       "      <td>67.450578</td>\n",
       "      <td>118.127103</td>\n",
       "      <td>17.40</td>\n",
       "      <td>19.30</td>\n",
       "      <td>29.70</td>\n",
       "      <td>23.483476</td>\n",
       "      <td>17.40</td>\n",
       "      <td>29.07</td>\n",
       "      <td>30.70</td>\n",
       "      <td>6.80</td>\n",
       "      <td>16.40</td>\n",
       "      <td>2.25</td>\n",
       "      <td>166.463581</td>\n",
       "      <td>NaN</td>\n",
       "    </tr>\n",
       "    <tr>\n",
       "      <th>3</th>\n",
       "      <td>Ahmedabad</td>\n",
       "      <td>2015-01-04</td>\n",
       "      <td>67.450578</td>\n",
       "      <td>118.127103</td>\n",
       "      <td>1.70</td>\n",
       "      <td>18.48</td>\n",
       "      <td>17.97</td>\n",
       "      <td>23.483476</td>\n",
       "      <td>1.70</td>\n",
       "      <td>18.59</td>\n",
       "      <td>36.08</td>\n",
       "      <td>4.43</td>\n",
       "      <td>10.14</td>\n",
       "      <td>1.00</td>\n",
       "      <td>166.463581</td>\n",
       "      <td>NaN</td>\n",
       "    </tr>\n",
       "    <tr>\n",
       "      <th>4</th>\n",
       "      <td>Ahmedabad</td>\n",
       "      <td>2015-01-05</td>\n",
       "      <td>67.450578</td>\n",
       "      <td>118.127103</td>\n",
       "      <td>22.10</td>\n",
       "      <td>21.42</td>\n",
       "      <td>37.76</td>\n",
       "      <td>23.483476</td>\n",
       "      <td>22.10</td>\n",
       "      <td>39.33</td>\n",
       "      <td>39.31</td>\n",
       "      <td>7.01</td>\n",
       "      <td>18.89</td>\n",
       "      <td>2.78</td>\n",
       "      <td>166.463581</td>\n",
       "      <td>NaN</td>\n",
       "    </tr>\n",
       "  </tbody>\n",
       "</table>\n",
       "</div>"
      ],
      "text/plain": [
       "        City       Date      PM2.5        PM10     NO    NO2    NOx  \\\n",
       "0  Ahmedabad 2015-01-01  67.450578  118.127103   0.92  18.22  17.15   \n",
       "1  Ahmedabad 2015-01-02  67.450578  118.127103   0.97  15.69  16.46   \n",
       "2  Ahmedabad 2015-01-03  67.450578  118.127103  17.40  19.30  29.70   \n",
       "3  Ahmedabad 2015-01-04  67.450578  118.127103   1.70  18.48  17.97   \n",
       "4  Ahmedabad 2015-01-05  67.450578  118.127103  22.10  21.42  37.76   \n",
       "\n",
       "         NH3     CO    SO2      O3  Benzene  Toluene  Xylene         AQI  \\\n",
       "0  23.483476   0.92  27.64  133.36     0.00     0.02    0.00  166.463581   \n",
       "1  23.483476   0.97  24.55   34.06     3.68     5.50    3.77  166.463581   \n",
       "2  23.483476  17.40  29.07   30.70     6.80    16.40    2.25  166.463581   \n",
       "3  23.483476   1.70  18.59   36.08     4.43    10.14    1.00  166.463581   \n",
       "4  23.483476  22.10  39.33   39.31     7.01    18.89    2.78  166.463581   \n",
       "\n",
       "  AQI_Bucket  \n",
       "0        NaN  \n",
       "1        NaN  \n",
       "2        NaN  \n",
       "3        NaN  \n",
       "4        NaN  "
      ]
     },
     "execution_count": 15,
     "metadata": {},
     "output_type": "execute_result"
    }
   ],
   "source": [
    "# Display the updated DataFrame information to confirm all changes\n",
    "df.info()\n",
    "\n",
    "# Optionally, display the first few rows to inspect the cleaned data\n",
    "df.head()"
   ]
  },
  {
   "cell_type": "markdown",
   "id": "43d0b656-1480-4a23-aaa6-0bf8b1e5656c",
   "metadata": {},
   "source": [
    "## 4. Exploratory Data Analysis (EDA)"
   ]
  },
  {
   "cell_type": "code",
   "execution_count": null,
   "id": "9c765f07-7227-4059-823a-f662a5fa81bc",
   "metadata": {},
   "outputs": [],
   "source": []
  },
  {
   "cell_type": "code",
   "execution_count": null,
   "id": "aeafe5c9-9223-4e0b-b9b6-d451e6b839bf",
   "metadata": {},
   "outputs": [],
   "source": []
  },
  {
   "cell_type": "code",
   "execution_count": null,
   "id": "a681dc08-b638-4ae5-8bd5-2ec7cb7e41d5",
   "metadata": {},
   "outputs": [],
   "source": []
  },
  {
   "cell_type": "code",
   "execution_count": null,
   "id": "294dc2f4-113e-4d48-8d94-9e3c7c7989b6",
   "metadata": {},
   "outputs": [],
   "source": []
  },
  {
   "cell_type": "code",
   "execution_count": null,
   "id": "26e7130d-2127-4845-a2b5-bae8af6e9feb",
   "metadata": {},
   "outputs": [],
   "source": []
  }
 ],
 "metadata": {
  "kernelspec": {
   "display_name": "Python 3 (ipykernel)",
   "language": "python",
   "name": "python3"
  },
  "language_info": {
   "codemirror_mode": {
    "name": "ipython",
    "version": 3
   },
   "file_extension": ".py",
   "mimetype": "text/x-python",
   "name": "python",
   "nbconvert_exporter": "python",
   "pygments_lexer": "ipython3",
   "version": "3.12.6"
  }
 },
 "nbformat": 4,
 "nbformat_minor": 5
}
